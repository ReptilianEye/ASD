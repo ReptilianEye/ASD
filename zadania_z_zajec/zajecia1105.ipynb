{
 "cells": [
  {
   "attachments": {},
   "cell_type": "markdown",
   "metadata": {},
   "source": [
    "Mamy dane wierzocholki, połączone krawędziami o okreslonej przepływowości. Wsrod nich zrodla i ujscia. Nalezy sprawdzic czy mozna zaoparzyc kazdy sklep.\n",
    "Rozwiązanie: dodać superujście i superźrodło i na koniec sprawdzac czy w super"
   ]
  },
  {
   "attachments": {},
   "cell_type": "markdown",
   "metadata": {},
   "source": [
    "Mowimy że graf ma spojnosc krawedziowa K, jesli po usunieciu K krawedzi staje sie on niespojny. Ale usuniecie k-1 krawdzi nie sprawia, że graf sie staje niespojny.\n",
    "# Minimalny przekroj\n",
    "Rozwiązanie: wybieramy jeden wierzcholek i porownujemy go z kazdym innym i szukamy najmniejeszego przeplywu dla niego.\n"
   ]
  },
  {
   "attachments": {},
   "cell_type": "markdown",
   "metadata": {},
   "source": [
    "Dana jest formula w formie CNF. Wiedziac ze kazdy literal wystepuje <=2, sprawdzic dla jakich wartosciowan zmiennych cala formula bedzie prawdziwa.\n",
    "# Rozwiazanie: na poczatku nalezy uproscic sobie klauzule (opisac potem). Po uproszczeniu, kazda zmienna wystepuje dokladnie 2 razy, wstepuje albo ona sama albo jej zaprzeczenie. W każdej klauzuli wystaczy aby jeden literał był prawdziwy. "
   ]
  },
  {
   "attachments": {},
   "cell_type": "markdown",
   "metadata": {},
   "source": [
    "Majac dany graf, mamy sprawdzic ile istnieje sciezek z s do t, takich ktore nie maja wspolnych wierzcholkow"
   ]
  },
  {
   "attachments": {},
   "cell_type": "markdown",
   "metadata": {},
   "source": [
    "Dany jest graf nieskierowany o krawedziach o danej pojemnosci. Nalezy policzyc maksymalny przeplyw miedzy wierzcholkiem s do t. Dany jest algorytm ktory jest dany dla grafow skierowanych. Co teraz?\n",
    "# Rozwiazanie: Przerobic graf, tak aby dla kazdej krawedzi a->b powstaly dwie krawedzi b->c i c->a obie o przeplywie capacity(a,b).\n"
   ]
  },
  {
   "attachments": {},
   "cell_type": "markdown",
   "metadata": {},
   "source": [
    "Zadanie z walutami.\n",
    "# Aby zarobic to po przejsciu cyklu musimy miec iloczyn kursow walut wiekszy od 1. Jesli zamienimy wagi na logarytm, można zrobić sume krawędzi"
   ]
  },
  {
   "attachments": {},
   "cell_type": "markdown",
   "metadata": {},
   "source": [
    "Maksymalne skojarzenie w drzewie.\n",
    "# rozw 1: kazde drzewo jest grafem dwudzielnym. (Algorytm jak na wykladzie)\n",
    "# rozw 2: zaznaczamy najglebsza krawedz, jako skojarzenie. Nastepnie czyszczenie, i kolejny najglebszy\n"
   ]
  },
  {
   "attachments": {},
   "cell_type": "markdown",
   "metadata": {},
   "source": [
    "Drzewo. Skojarzenie o maksymalnej sumie wag."
   ]
  }
 ],
 "metadata": {
  "language_info": {
   "name": "python"
  },
  "orig_nbformat": 4
 },
 "nbformat": 4,
 "nbformat_minor": 2
}
